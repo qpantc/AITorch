{
 "cells": [
  {
   "cell_type": "code",
   "execution_count": null,
   "metadata": {},
   "outputs": [],
   "source": [
    "# 图形输出\n",
    "%matplotlib inline\n",
    "\n",
    "# %matplotlib inline 是一个 Jupyter Notebook 的魔法命令（magic command），用于在 notebook 中嵌入图形并直接显示图形输出。\n",
    "# 这个命令通常用于在 notebook 中使用 Matplotlib 绘图库时，以便在执行代码单元格后立即看到图形结果，\n",
    "# 而不必使用 plt.show() 这样的语句来显示图形。"
   ]
  },
  {
   "cell_type": "code",
   "execution_count": null,
   "metadata": {},
   "outputs": [],
   "source": [
    "import torch\n",
    "\n",
    "# 导入torch。请注意，虽然它被称为PyTorch，但是代码中使用torch而不是pytorch"
   ]
  },
  {
   "cell_type": "code",
   "execution_count": null,
   "metadata": {},
   "outputs": [],
   "source": [
    "x = torch.arange(-8.0, 8.0, 0.1, requires_grad=True)\n",
    "\n",
    "# 我们可以使用 arange 创建一个行向量 x。\n",
    "# 起始值，终止值，间隔\n"
   ]
  },
  {
   "cell_type": "code",
   "execution_count": null,
   "metadata": {},
   "outputs": [],
   "source": [
    "# 定义张量\n",
    "\n",
    "# 自定义张量：\n",
    "torch.tensor([[2, 1, 4, 3], [1, 2, 3, 4], [4, 3, 2, 1]])\n",
    "# 重新确定分布：\n",
    "X = x.reshape(3, 4)\n",
    "# 特殊张量：\n",
    "#  0张量：\n",
    "torch.zeros((2, 3, 4))\n",
    "#  1张量：\n",
    "torch.ones((2, 3, 4))\n",
    "#  均值为0、标准差为1的标准高斯分布：\n",
    "torch.randn(3, 4)"
   ]
  },
  {
   "cell_type": "code",
   "execution_count": null,
   "metadata": {},
   "outputs": [],
   "source": [
    "# 张量的运算\n",
    "x = torch.tensor([1.0, 2, 4, 8])\n",
    "y = torch.tensor([2, 2, 2, 2])\n",
    "x + y, x - y, x * y, x / y, x ** y  # **运算符是求幂运算\n",
    "\n",
    "# “按元素”方式可以应用更多的计算，包括像求幂这样的一元运算符。\n",
    "\n",
    "# 幂运算\n",
    "torch.exp(x)"
   ]
  },
  {
   "cell_type": "code",
   "execution_count": null,
   "metadata": {},
   "outputs": [],
   "source": []
  },
  {
   "cell_type": "code",
   "execution_count": null,
   "metadata": {},
   "outputs": [],
   "source": [
    "# 激活函数\n",
    "\n",
    "y = torch.relu(x)\n",
    "\n",
    "# ReLU函数被定义为该元素与0的最大值：ReLU(x) = max(x,0)"
   ]
  }
 ],
 "metadata": {
  "language_info": {
   "name": "python"
  }
 },
 "nbformat": 4,
 "nbformat_minor": 2
}
