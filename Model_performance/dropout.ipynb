{
 "cells": [
  {
   "cell_type": "code",
   "execution_count": null,
   "metadata": {},
   "outputs": [],
   "source": [
    "# -*- coding: utf-8 -*-\n",
    "# @Time : 2023-12-12 21:45:25\n",
    "# @Author : Quanta\n",
    "# @Email : panquantc@gmail.com\n",
    "\n",
    "#"
   ]
  },
  {
   "cell_type": "code",
   "execution_count": null,
   "metadata": {},
   "outputs": [],
   "source": [
    "# 在regularization.ipynb 中, 我们介绍了通过惩罚权重的L2范数来正则化统计模型的经典方法。\n",
    "\n",
    "# 在概率角度看，我们可以通过以下论证来证明这一技术的合理性： \n",
    "# 我们已经假设了一个先验，即权重的值取自均值为0的高斯分布。 \n",
    "# 我们希望模型深度挖掘特征，即将其权重分散到许多特征中， 而不是过于依赖少数潜在的虚假关联。\n",
    "\n"
   ]
  }
 ],
 "metadata": {
  "language_info": {
   "name": "python"
  }
 },
 "nbformat": 4,
 "nbformat_minor": 2
}
